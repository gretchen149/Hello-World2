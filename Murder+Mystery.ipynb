{
 "cells": [
  {
   "cell_type": "markdown",
   "metadata": {},
   "source": [
    "# Preamble: A Brand new Jay\n",
    "\n",
    "After an eventful season on season 8 of *A Brand New Jay*, the 3 remaining contestants were invited to Jay Stacksby's private island for the last three episodes. When the day of filming the finale came Mr. Stacksby was found with one of his Professional Series 8-inch Chef Knives plunged through his heart! After the initial investigation highlighted that the film crew all lived in a separate house on the other side of the island, it was concluded that only the three contestants were near enough to Stacksby in order to commit a crime. At the scene of the crime, a letter was left. Here are the contents of that letter:\n",
    "\n",
    "> You may call me heartless, a killer, a monster, a murderer, but I'm still NOTHING compared to the villian that Jay was. This whole contest was a sham, an elaborate plot to shame the contestants and feed Jay's massive, massive ego. SURE you think you know him! You've seen him smiling for the cameras, laughing, joking, telling stories, waving his money around like a prop but off camera he was a sinister beast, a cruel cruel taskmaster, he treated all of us like slaves, like cattle, like animals! Do you remember Lindsay, she was the first to go, he called her such horrible things that she cried all night, keeping up all up, crying, crying, and more crying, he broke her with his words. I miss my former cast members, all of them very much. And we had to live with him, live in his home, live in his power, deal with his crazy demands. AND FOR WHAT! DID YOU KNOW THAT THE PRIZE ISN'T REAL? He never intended to marry one of us! The carrot on the stick was gone, all that was left was stick, he told us last night that we were all a terrible terrible disappointment and none of us would ever amount to anything, and that regardless of who won the contest he would never speak to any of us again! It's definitely the things like this you can feel in your gut how wrong he is! Well I showed him, he got what he deserved all right, I showed him, I showed him the person I am! I wasn't going to be pushed around any longer, and I wasn't going to let him go on pretending that he was some saint when all he was was a sick sick twisted man who deserved every bit of what he got. The fans need to know, Jay Stacksby is a vile amalgamation of all things evil and bad and the world is a better place without him.\n",
    "\n",
    "Pretty sinister stuff! Luckily, in addition to this bold-faced admission, we have the introduction letters of the three contestants. Maybe there is a way to use this information to determine who the author of this murder letter is?\n",
    "\n",
    "Myrtle Beech's introduction letter:\n",
    "> Salutations. My name? Myrtle. Myrtle Beech. I am a woman of simple tastes. I enjoy reading, thinking, and doing my taxes. I entered this competition because I want a serious relationship. I want a commitment. The last man I dated was too whimsical. He wanted to go on dates that had no plan. No end goal. Sometimes we would just end up wandering the streets after dinner. He called it a \"walk\". A \"walk\" with no destination. Can you imagine? I like every action I take to have a measurable effect. When I see a movie, I like to walk away with insights that I did not have before. When I take a bike ride, there better be a worthy destination at the end of the bike path. Jay seems frivolous at times. This worries me. However, it is my staunch belief that one does not make and keep money without having a modicum of discipline. As such, I am hopeful. I will now list three things I cannot live without. Water. Emery boards. Dogs. Thank you for the opportunity to introduce myself. I look forward to the competition. \n",
    "\n",
    "Lily Trebuchet's introduction letter:\n",
    "> Hi, I'm Lily Trebuchet from East Egg, Long Island. I love cats, hiking, and curling up under a warm blanket with a book. So they gave this little questionnaire to use for our bios so lets get started. What are some of my least favorite household chores? Dishes, oh yes it's definitely the dishes, I just hate doing them, don't you? Who is your favorite actor and why? Hmm, that's a hard one, but I think recently I'll have to go with Michael B. Jordan, every bit of that man is handsome, HANDSOME! Do you remember seeing him shirtless? I can't believe what he does for the cameras! Okay okay next question, what is your perfect date? Well it starts with a nice dinner at a delicious but small restaurant, you know like one of those places where the owner is in the back and comes out to talk to you and ask you how your meal was. My favorite form of art? Another hard one, but I think I'll have to go with music, music you can feel in your whole body and it is electrifying and best of all, you can dance to it! Okay final question, let's see, What are three things you cannot live without? Well first off, my beautiful, beautiful cat Jerry, he is my heart and spirit animal. Second is pasta, definitely pasta, and the third I think is my family, I love all of them very much and they support me in everything I do. I know Jay Stacksby is a handsome man and all of us want to be the first to walk down the aisle with him, but I think he might truly be the one for me. Okay that's it for the bio, I hope you have fun watching the show! \n",
    "\n",
    "Gregg T Fishy's introduction letter:\n",
    "\n",
    "> A most good day to you all, I am Gregg T Fishy, of the Fishy Enterprise fortune. I am 37 years young, an adventurous spirit and I've never lost my sense of childlike wonder. I do love to be in the backyard gardening and I have the most extraordinary time when I'm fishing. Fishing for what, you might find yourself asking? Why, I happen to always be fishing for compliments of course! I have a stunning pair of radiant blue eyes that will pierce the soul of anyone who dare gaze upon my countenance. I quite enjoy going on long jaunts through garden paths and short walks through greenhouses. I hope that Jay will be as absolutely interesting as he appears on the television, I find that he has some of the most curious tastes in style and humor. When I'm out and about I quite enjoy hearing tales that instill in my heart of hearts the fascination that beguiles my every day life, every fiber of my being scintillates and vascillates with extreme pleasure during one of these charming anecdotes and significantly pleases my beautiful personage. I cannot wait to enjoy being on the television program A Jay To Remember, it certainly seems like a grand time to explore life and love."
   ]
  },
  {
   "cell_type": "markdown",
   "metadata": {},
   "source": [
    "## Saving The Different Examples as Variables\n",
    "\n",
    "First let's create variables to hold the text data in! Save the muder note as a string in a variable called `murder_note`. Save Lily Trebuchet's introduction into `lily_trebuchet_intro`. Save Myrtle Beech's introduction into `myrtle_beech_intro`. Save Gregg T Fishy's introduction into `gregg_t_fishy_intro`."
   ]
  },
  {
   "cell_type": "code",
   "execution_count": 1,
   "metadata": {},
   "outputs": [],
   "source": [
    "murder_note='''You may call me heartless, a killer, a monster, a murderer, but I'm still NOTHING compared to the villian that Jay was. This whole contest was a sham, an elaborate plot to shame the contestants and feed Jay's massive, massive ego. SURE you think you know him! You've seen him smiling for the cameras, laughing, joking, telling stories, waving his money around like a prop but off camera he was a sinister beast, a cruel cruel taskmaster, he treated all of us like slaves, like cattle, like animals! Do you remember Lindsay, she was the first to go, he called her such horrible things that she cried all night, keeping up all up, crying, crying, and more crying, he broke her with his words. I miss my former cast members, all of them very much. And we had to live with him, live in his home, live in his power, deal with his crazy demands. AND FOR WHAT! DID YOU KNOW THAT THE PRIZE ISN'T REAL? He never intended to marry one of us! The carrot on the stick was gone, all that was left was stick, he told us last night that we were all a terrible terrible disappointment and none of us would ever amount to anything, and that regardless of who won the contest he would never speak to any of us again! It's definitely the things like this you can feel in your gut how wrong he is! Well I showed him, he got what he deserved all right, I showed him, I showed him the person I am! I wasn't going to be pushed around any longer, and I wasn't going to let him go on pretending that he was some saint when all he was was a sick sick twisted man who deserved every bit of what he got. The fans need to know, Jay Stacksby is a vile amalgamation of all things evil and bad and the world is a better place without him.'''\n",
    "lily_trebuchet_intro=\"\"\"Hi, I'm Lily Trebuchet from East Egg, Long Island. I love cats, hiking, and curling up under a warm blanket with a book. So they gave this little questionnaire to use for our bios so lets get started. What are some of my least favorite household chores? Dishes, oh yes it's definitely the dishes, I just hate doing them, don't you? Who is your favorite actor and why? Hmm, that's a hard one, but I think recently I'll have to go with Michael B. Jordan, every bit of that man is handsome, HANDSOME! Do you remember seeing him shirtless? I can't believe what he does for the cameras! Okay okay next question, what is your perfect date? Well it starts with a nice dinner at a delicious but small restaurant, you know like one of those places where the owner is in the back and comes out to talk to you and ask you how your meal was. My favorite form of art? Another hard one, but I think I'll have to go with music, music you can feel in your whole body and it is electrifying and best of all, you can dance to it! Okay final question, let's see, What are three things you cannot live without? Well first off, my beautiful, beautiful cat Jerry, he is my heart and spirit animal. Second is pasta, definitely pasta, and the third I think is my family, I love all of them very much and they support me in everything I do. I know Jay Stacksby is a handsome man and all of us want to be the first to walk down the aisle with him, but I think he might truly be the one for me. Okay that's it for the bio, I hope you have fun watching the show!\"\"\"\n",
    "myrtle_beech_intro=\"\"\"Salutations. My name? Myrtle. Myrtle Beech. I am a woman of simple tastes. I enjoy reading, thinking, and doing my taxes. I entered this competition because I want a serious relationship. I want a commitment. The last man I dated was too whimsical. He wanted to go on dates that had no plan. No end goal. Sometimes we would just end up wandering the streets after dinner. He called it a \"walk\". A \"walk\" with no destination. Can you imagine? I like every action I take to have a measurable effect. When I see a movie, I like to walk away with insights that I did not have before. When I take a bike ride, there better be a worthy destination at the end of the bike path. Jay seems frivolous at times. This worries me. However, it is my staunch belief that one does not make and keep money without having a modicum of discipline. As such, I am hopeful. I will now list three things I cannot live without. Water. Emery boards. Dogs. Thank you for the opportunity to introduce myself. I look forward to the competition.\"\"\"\n",
    "gregg_t_fishy_intro=\"\"\"A most good day to you all, I am Gregg T Fishy, of the Fishy Enterprise fortune. I am 37 years young, an adventurous spirit and I've never lost my sense of childlike wonder. I do love to be in the backyard gardening and I have the most extraordinary time when I'm fishing. Fishing for what, you might find yourself asking? Why, I happen to always be fishing for compliments of course! I have a stunning pair of radiant blue eyes that will pierce the soul of anyone who dare gaze upon my countenance. I quite enjoy going on long jaunts through garden paths and short walks through greenhouses. I hope that Jay will be as absolutely interesting as he appears on the television, I find that he has some of the most curious tastes in style and humor. When I'm out and about I quite enjoy hearing tales that instill in my heart of hearts the fascination that beguiles my every day life, every fiber of my being scintillates and vascillates with extreme pleasure during one of these charming anecdotes and significantly pleases my beautiful personage. I cannot wait to enjoy being on the television program A Jay To Remember, it certainly seems like a grand time to explore life and love.\"\"\"\n"
   ]
  },
  {
   "cell_type": "markdown",
   "metadata": {},
   "source": [
    "## The First Indicator: Sentence Length\n",
    "\n",
    "Perhaps some meaningful data can first be gleaned from these text examples if we measure how long the average sentence length is. Different authors have different patterns of written speech, so this could be very useful in tracking down the killer.\n",
    "\n",
    "Write a function `get_average_sentence_length` that takes some `text` as an argument. This function should return the average length of a sentence in the text.\n",
    "\n",
    "Hint (highlight this hint in order to reveal it): \n",
    "<font color=\"white\">Use your knowledge of _string methods_ to create a list of all of the sentences in a text, called **sentences_in_text**. \n",
    "Further break up each **sentences_in_text** into a list of words and save the _length_ of that list of words to a new list that contains all the sentence lengths, called **sentence_lengths**. Take the average of all of the sentence lengths by adding them all together and dividing by the number of sentences (which should be the same as the length of the **sentence_lengths**).\n",
    "\n",
    "Remember sentences can end with more than one kind of punctuation, you might find it easiest to use **.replace()** so you only have to split on one punctuation mark. Remember **.replace()** doesn't modify the string itself, it returns a new string!</font>"
   ]
  },
  {
   "cell_type": "code",
   "execution_count": 2,
   "metadata": {},
   "outputs": [
    {
     "data": {
      "text/plain": [
       "8.5"
      ]
     },
     "execution_count": 2,
     "metadata": {},
     "output_type": "execute_result"
    }
   ],
   "source": [
    "def get_average_sentence_length(text):\n",
    "    sentences_in_text=[]\n",
    "    words_in_sentences=[]\n",
    "    text2=text.replace('!','.')\n",
    "    text3=text2.replace('?','.')\n",
    "    text3_split=text3.split('.')\n",
    "    for sentence in text3_split:\n",
    "        sentences_in_text.append(sentence)\n",
    "        for i in sentences_in_text:\n",
    "            words_in_sentences.append(i)\n",
    "    sentences= len(sentences_in_text)\n",
    "    words = len(words_in_sentences)\n",
    "    avsentlng=words/sentences\n",
    "    #print (sentences)\n",
    "    #print (words)\n",
    "    return avsentlng\n",
    "    #return 'There are {sentences} sentences and {words} words for an average sentence length in this text of {avsentlng}.'.format(sentences=sentences,words=words,avsentlng = avsentlng)\n",
    " \n",
    "get_average_sentence_length(murder_note)\n"
   ]
  },
  {
   "cell_type": "markdown",
   "metadata": {},
   "source": [
    "## Creating The Definition for Our Model\n",
    "\n",
    "Now that we have a metric we want to save and data that is coupled with that metric, it might be time to create our data type. Let's define a class called `TextSample` with a constructor. The constructor should take two arguments: `text` and `author`. `text` should be saved as `self.raw_text`. Call `get_average_sentence_length` with the raw text and save it to `self.average_sentence_length`. You should save the author of the text as `self.author`.\n",
    "\n",
    "Additionally, define a string representation for the model. If you print a `TextSample` it should render:\n",
    " - The author's name\n",
    " - The average sentence length\n",
    " \n",
    "This will be your main class for the problem at hand. All later instruction to update `TextSample` should be done in the code block below. After updating `TextSample`, click on the `Cell` option in the Jupyter Notebook main menu above, then click `Run All` to rerun the cells from top to bottom. If you need to restart your Jupyter Notebook either run the cells below first or move the `TextSample` class definition & instantiation cells to the bottom."
   ]
  },
  {
   "cell_type": "code",
   "execution_count": 4,
   "metadata": {},
   "outputs": [
    {
     "name": "stdout",
     "output_type": "stream",
     "text": [
      "The text from killer has an average sentence length of 8.5\n"
     ]
    }
   ],
   "source": [
    "#Please note, following a kernel restart, lines 10-12 throw an error, until following cells\n",
    "# are executed by individual \"run cell commands\".\n",
    "class TextSample:\n",
    "    def __init__ (self,text,author):\n",
    "        self.text=text\n",
    "        self.author=author\n",
    "        self.av_sent_lng= get_average_sentence_length(text)\n",
    "        av_lng = self.av_sent_lng\n",
    "        #print(av_lng)\n",
    "        #self.prepared_text=prepare_text(text)\n",
    "        #self.word_count_frequency=build_frequency_table(self.prepared_text)\n",
    "        #self.ngram_frequency= build_frequency_table(self.prepared_text)\n",
    "    \n",
    "    def __str__(self):\n",
    "        return'The text from {author} has an average sentence length of {av_lng}'.format(author=self.author,av_lng=self.av_sent_lng)\n",
    "        \n",
    "murder_sample = TextSample(murder_note,'killer')\n",
    "print(murder_sample)   "
   ]
  },
  {
   "cell_type": "markdown",
   "metadata": {},
   "source": [
    "### Creating our TextSample Instances\n",
    "\n",
    "Now create a `TextSample` object for each of the samples of text that we have.\n",
    " - `murderer_sample` for the murderer's note.\n",
    " - `lily_sample` for Lily Trebuchet's note.\n",
    " - `myrtle_sample` for Myrtle Beech's note.\n",
    " - `gregg_sample` for Gregg T Fishy's note.\n",
    " \n",
    "Print out each one after instantiating them."
   ]
  },
  {
   "cell_type": "code",
   "execution_count": 5,
   "metadata": {},
   "outputs": [
    {
     "name": "stdout",
     "output_type": "stream",
     "text": [
      "The text from Lily has an average sentence length of 10.5\n",
      "The text from Myrtle has an average sentence length of 15.0\n",
      "The text from Gregg has an average sentence length of 6.0\n"
     ]
    }
   ],
   "source": [
    "murder_sample=TextSample(murder_note,'killer')\n",
    "#print(murder_sample)  \n",
    "lily_sample=TextSample(lily_trebuchet_intro,'Lily')\n",
    "print(lily_sample)  \n",
    "myrtle_sample=TextSample(myrtle_beech_intro,'Myrtle')\n",
    "print(myrtle_sample)  \n",
    "gregg_sample=TextSample(gregg_t_fishy_intro,'Gregg')\n",
    "print(gregg_sample)  "
   ]
  },
  {
   "cell_type": "markdown",
   "metadata": {},
   "source": [
    "## Cleaning Our Data\n",
    "\n",
    "We want to compare the word choice and usage between the samples, but sentences make our text data fairly messy. In order to analyze the different messages fairly, we'll need to remove all the punctuation and uppercase letters from the samples.\n",
    "\n",
    "Create a function called `prepare_text` that takes a single parameter `text`, makes the text entirely lowercase, removes all the punctuation and returns a list of the words in the text in order.\n",
    "\n",
    "For example: `\"Where did you go, friend? We nearly saw each other.\"` would become `['where', 'did', 'you', 'go', 'friend', 'we', 'nearly', 'saw', 'each', 'other']`."
   ]
  },
  {
   "cell_type": "code",
   "execution_count": 6,
   "metadata": {},
   "outputs": [
    {
     "name": "stdout",
     "output_type": "stream",
     "text": [
      "['you', 'may', 'call', 'me', 'heartless', '', 'a', 'killer', '', 'a', 'monster', '', 'a', 'murderer', '', 'but', \"i'm\", 'still', 'nothing', 'compared', 'to', 'the', 'villian', 'that', 'jay', 'was', '', 'this', 'whole', 'contest', 'was', 'a', 'sham', '', 'an', 'elaborate', 'plot', 'to', 'shame', 'the', 'contestants', 'and', 'feed', \"jay's\", 'massive', '', 'massive', 'ego', '', 'sure', 'you', 'think', 'you', 'know', 'him', '', \"you've\", 'seen', 'him', 'smiling', 'for', 'the', 'cameras', '', 'laughing', '', 'joking', '', 'telling', 'stories', '', 'waving', 'his', 'money', 'around', 'like', 'a', 'prop', 'but', 'off', 'camera', 'he', 'was', 'a', 'sinister', 'beast', '', 'a', 'cruel', 'cruel', 'taskmaster', '', 'he', 'treated', 'all', 'of', 'us', 'like', 'slaves', '', 'like', 'cattle', '', 'like', 'animals', '', 'do', 'you', 'remember', 'lindsay', '', 'she', 'was', 'the', 'first', 'to', 'go', '', 'he', 'called', 'her', 'such', 'horrible', 'things', 'that', 'she', 'cried', 'all', 'night', '', 'keeping', 'up', 'all', 'up', '', 'crying', '', 'crying', '', 'and', 'more', 'crying', '', 'he', 'broke', 'her', 'with', 'his', 'words', '', 'i', 'miss', 'my', 'former', 'cast', 'members', '', 'all', 'of', 'them', 'very', 'much', '', 'and', 'we', 'had', 'to', 'live', 'with', 'him', '', 'live', 'in', 'his', 'home', '', 'live', 'in', 'his', 'power', '', 'deal', 'with', 'his', 'crazy', 'demands', '', 'and', 'for', 'what', '', 'did', 'you', 'know', 'that', 'the', 'prize', \"isn't\", 'real', '', 'he', 'never', 'intended', 'to', 'marry', 'one', 'of', 'us', '', 'the', 'carrot', 'on', 'the', 'stick', 'was', 'gone', '', 'all', 'that', 'was', 'left', 'was', 'stick', '', 'he', 'told', 'us', 'last', 'night', 'that', 'we', 'were', 'all', 'a', 'terrible', 'terrible', 'disappointment', 'and', 'none', 'of', 'us', 'would', 'ever', 'amount', 'to', 'anything', '', 'and', 'that', 'regardless', 'of', 'who', 'won', 'the', 'contest', 'he', 'would', 'never', 'speak', 'to', 'any', 'of', 'us', 'again', '', \"it's\", 'definitely', 'the', 'things', 'like', 'this', 'you', 'can', 'feel', 'in', 'your', 'gut', 'how', 'wrong', 'he', 'is', '', 'well', 'i', 'showed', 'him', '', 'he', 'got', 'what', 'he', 'deserved', 'all', 'right', '', 'i', 'showed', 'him', '', 'i', 'showed', 'him', 'the', 'person', 'i', 'am', '', 'i', \"wasn't\", 'going', 'to', 'be', 'pushed', 'around', 'any', 'longer', '', 'and', 'i', \"wasn't\", 'going', 'to', 'let', 'him', 'go', 'on', 'pretending', 'that', 'he', 'was', 'some', 'saint', 'when', 'all', 'he', 'was', 'was', 'a', 'sick', 'sick', 'twisted', 'man', 'who', 'deserved', 'every', 'bit', 'of', 'what', 'he', 'got', '', 'the', 'fans', 'need', 'to', 'know', '', 'jay', 'stacksby', 'is', 'a', 'vile', 'amalgamation', 'of', 'all', 'things', 'evil', 'and', 'bad', 'and', 'the', 'world', 'is', 'a', 'better', 'place', 'without', 'him', '']\n"
     ]
    }
   ],
   "source": [
    "def prepare_text(text):\n",
    "    prepared_text=[]\n",
    "    prepared_text2=[]\n",
    "    lower_case_text=text.lower()\n",
    "    text2=lower_case_text.replace('!','.')\n",
    "    text3=text2.replace('?','.')\n",
    "    text4=text3.replace(',',' ')\n",
    "    text5=text4.replace('.',' ')\n",
    "    sentences=text5.split(' ')\n",
    "    #print(type(text5))\n",
    "    \n",
    "    for i in sentences:\n",
    "       prepared_text.append(i)\n",
    "    return prepared_text\n",
    " \n",
    "murder=prepare_text(murder_note)\n",
    "print(murder)"
   ]
  },
  {
   "cell_type": "markdown",
   "metadata": {},
   "source": [
    "Update the constructor for `TextSample` to save the prepared text as `self.prepared_text`."
   ]
  },
  {
   "cell_type": "markdown",
   "metadata": {},
   "source": [
    "## Building A Frequency Table\n",
    "\n",
    "Now we want to see which words were most frequently used in each of the samples. Create a function called `build_frequency_table`. It takes in a list called `corpus` and creates a dictionary called `frequency_table`. For every element in `corpus` the value `frequency_table[element]` should be equal to the number of times that element appears in `corpus`. For example the input `['do', 'you', 'see', 'what', 'i', 'see']` would create the frequency table `{'what': 1, 'you': 1, 'see' 2, 'i': 1}`."
   ]
  },
  {
   "cell_type": "code",
   "execution_count": 7,
   "metadata": {},
   "outputs": [
    {
     "name": "stdout",
     "output_type": "stream",
     "text": [
      "{'do': 1, 'you': 1, 'see': 2, 'what': 1, 'i': 1}\n"
     ]
    }
   ],
   "source": [
    "def build_frequency_table(list):\n",
    "    frequency_table ={}\n",
    "    for i in range(len(list)):\n",
    "        if list[i] not in frequency_table.keys():\n",
    "            frequency_table[list[i]]=1\n",
    "        else:\n",
    "            frequency_table[list[i]]+=1\n",
    "    return frequency_table\n",
    "corpus=['do', 'you', 'see', 'what', 'i', 'see']\n",
    "corpus_freq=build_frequency_table(corpus)\n",
    "print(corpus_freq)"
   ]
  },
  {
   "cell_type": "markdown",
   "metadata": {},
   "source": [
    "## The Second Indicator: Favorite Words\n",
    "\n",
    "Use `build_frequency_table` with the prepared text to create a frequency table that counts how frequently all the words in each text sample appears. Call these functions in the constructor for `TextSample` and assign the word frequency table to a value called `self.word_count_frequency`."
   ]
  },
  {
   "cell_type": "code",
   "execution_count": 8,
   "metadata": {},
   "outputs": [
    {
     "name": "stdout",
     "output_type": "stream",
     "text": [
      "Count for murder note is {'you': 6, 'may': 1, 'call': 1, 'me': 1, 'heartless': 1, '': 48, 'a': 11, 'killer': 1, 'monster': 1, 'murderer': 1, 'but': 2, \"i'm\": 1, 'still': 1, 'nothing': 1, 'compared': 1, 'to': 10, 'the': 12, 'villian': 1, 'that': 7, 'jay': 2, 'was': 10, 'this': 2, 'whole': 1, 'contest': 2, 'sham': 1, 'an': 1, 'elaborate': 1, 'plot': 1, 'shame': 1, 'contestants': 1, 'and': 9, 'feed': 1, \"jay's\": 1, 'massive': 2, 'ego': 1, 'sure': 1, 'think': 1, 'know': 3, 'him': 8, \"you've\": 1, 'seen': 1, 'smiling': 1, 'for': 2, 'cameras': 1, 'laughing': 1, 'joking': 1, 'telling': 1, 'stories': 1, 'waving': 1, 'his': 5, 'money': 1, 'around': 2, 'like': 5, 'prop': 1, 'off': 1, 'camera': 1, 'he': 13, 'sinister': 1, 'beast': 1, 'cruel': 2, 'taskmaster': 1, 'treated': 1, 'all': 9, 'of': 8, 'us': 5, 'slaves': 1, 'cattle': 1, 'animals': 1, 'do': 1, 'remember': 1, 'lindsay': 1, 'she': 2, 'first': 1, 'go': 2, 'called': 1, 'her': 2, 'such': 1, 'horrible': 1, 'things': 3, 'cried': 1, 'night': 2, 'keeping': 1, 'up': 2, 'crying': 3, 'more': 1, 'broke': 1, 'with': 3, 'words': 1, 'i': 7, 'miss': 1, 'my': 1, 'former': 1, 'cast': 1, 'members': 1, 'them': 1, 'very': 1, 'much': 1, 'we': 2, 'had': 1, 'live': 3, 'in': 3, 'home': 1, 'power': 1, 'deal': 1, 'crazy': 1, 'demands': 1, 'what': 3, 'did': 1, 'prize': 1, \"isn't\": 1, 'real': 1, 'never': 2, 'intended': 1, 'marry': 1, 'one': 1, 'carrot': 1, 'on': 2, 'stick': 2, 'gone': 1, 'left': 1, 'told': 1, 'last': 1, 'were': 1, 'terrible': 2, 'disappointment': 1, 'none': 1, 'would': 2, 'ever': 1, 'amount': 1, 'anything': 1, 'regardless': 1, 'who': 2, 'won': 1, 'speak': 1, 'any': 2, 'again': 1, \"it's\": 1, 'definitely': 1, 'can': 1, 'feel': 1, 'your': 1, 'gut': 1, 'how': 1, 'wrong': 1, 'is': 3, 'well': 1, 'showed': 3, 'got': 2, 'deserved': 2, 'right': 1, 'person': 1, 'am': 1, \"wasn't\": 2, 'going': 2, 'be': 1, 'pushed': 1, 'longer': 1, 'let': 1, 'pretending': 1, 'some': 1, 'saint': 1, 'when': 1, 'sick': 2, 'twisted': 1, 'man': 1, 'every': 1, 'bit': 1, 'fans': 1, 'need': 1, 'stacksby': 1, 'vile': 1, 'amalgamation': 1, 'evil': 1, 'bad': 1, 'world': 1, 'better': 1, 'place': 1, 'without': 1}\n",
      "\n",
      " Count for lily note is {'hi': 1, '': 45, \"i'm\": 1, 'lily': 1, 'trebuchet': 1, 'from': 1, 'east': 1, 'egg': 1, 'long': 1, 'island': 1, 'i': 11, 'love': 2, 'cats': 1, 'hiking': 1, 'and': 10, 'curling': 1, 'up': 1, 'under': 1, 'a': 6, 'warm': 1, 'blanket': 1, 'with': 5, 'book': 1, 'so': 2, 'they': 2, 'gave': 1, 'this': 1, 'little': 1, 'questionnaire': 1, 'to': 8, 'use': 1, 'for': 4, 'our': 1, 'bios': 1, 'lets': 1, 'get': 1, 'started': 1, 'what': 4, 'are': 2, 'some': 1, 'of': 7, 'my': 5, 'least': 1, 'favorite': 3, 'household': 1, 'chores': 1, 'dishes': 2, 'oh': 1, 'yes': 1, \"it's\": 1, 'definitely': 2, 'the': 10, 'just': 1, 'hate': 1, 'doing': 1, 'them': 2, \"don't\": 1, 'you': 9, 'who': 1, 'is': 9, 'your': 4, 'actor': 1, 'why': 1, 'hmm': 1, \"that's\": 2, 'hard': 2, 'one': 4, 'but': 4, 'think': 4, 'recently': 1, \"i'll\": 2, 'have': 3, 'go': 2, 'michael': 1, 'b': 1, 'jordan': 1, 'every': 1, 'bit': 1, 'that': 1, 'man': 2, 'handsome': 3, 'do': 2, 'remember': 1, 'seeing': 1, 'him': 2, 'shirtless': 1, \"can't\": 1, 'believe': 1, 'he': 3, 'does': 1, 'cameras': 1, 'okay': 4, 'next': 1, 'question': 2, 'perfect': 1, 'date': 1, 'well': 2, 'it': 4, 'starts': 1, 'nice': 1, 'dinner': 1, 'at': 1, 'delicious': 1, 'small': 1, 'restaurant': 1, 'know': 2, 'like': 1, 'those': 1, 'places': 1, 'where': 1, 'owner': 1, 'in': 3, 'back': 1, 'comes': 1, 'out': 1, 'talk': 1, 'ask': 1, 'how': 1, 'meal': 1, 'was': 1, 'form': 1, 'art': 1, 'another': 1, 'music': 2, 'can': 2, 'feel': 1, 'whole': 1, 'body': 1, 'electrifying': 1, 'best': 1, 'all': 3, 'dance': 1, 'final': 1, \"let's\": 1, 'see': 1, 'three': 1, 'things': 1, 'cannot': 1, 'live': 1, 'without': 1, 'first': 2, 'off': 1, 'beautiful': 2, 'cat': 1, 'jerry': 1, 'heart': 1, 'spirit': 1, 'animal': 1, 'second': 1, 'pasta': 2, 'third': 1, 'family': 1, 'very': 1, 'much': 1, 'support': 1, 'me': 2, 'everything': 1, 'jay': 1, 'stacksby': 1, 'us': 1, 'want': 1, 'be': 2, 'walk': 1, 'down': 1, 'aisle': 1, 'might': 1, 'truly': 1, 'bio': 1, 'hope': 1, 'fun': 1, 'watching': 1, 'show': 1}\n",
      "\n",
      " Count for myrtle note is {'salutations': 1, '': 34, 'my': 3, 'name': 1, 'myrtle': 2, 'beech': 1, 'i': 16, 'am': 2, 'a': 10, 'woman': 1, 'of': 3, 'simple': 1, 'tastes': 1, 'enjoy': 1, 'reading': 1, 'thinking': 1, 'and': 2, 'doing': 1, 'taxes': 1, 'entered': 1, 'this': 2, 'competition': 2, 'because': 1, 'want': 2, 'serious': 1, 'relationship': 1, 'commitment': 1, 'the': 6, 'last': 1, 'man': 1, 'dated': 1, 'was': 1, 'too': 1, 'whimsical': 1, 'he': 2, 'wanted': 1, 'to': 5, 'go': 1, 'on': 1, 'dates': 1, 'that': 3, 'had': 1, 'no': 3, 'plan': 1, 'end': 3, 'goal': 1, 'sometimes': 1, 'we': 1, 'would': 1, 'just': 1, 'up': 1, 'wandering': 1, 'streets': 1, 'after': 1, 'dinner': 1, 'called': 1, 'it': 2, '\"walk\"': 2, 'with': 2, 'destination': 2, 'can': 1, 'you': 2, 'imagine': 1, 'like': 2, 'every': 1, 'action': 1, 'take': 2, 'have': 2, 'measurable': 1, 'effect': 1, 'when': 2, 'see': 1, 'movie': 1, 'walk': 1, 'away': 1, 'insights': 1, 'did': 1, 'not': 2, 'before': 1, 'bike': 2, 'ride': 1, 'there': 1, 'better': 1, 'be': 1, 'worthy': 1, 'at': 2, 'path': 1, 'jay': 1, 'seems': 1, 'frivolous': 1, 'times': 1, 'worries': 1, 'me': 1, 'however': 1, 'is': 1, 'staunch': 1, 'belief': 1, 'one': 1, 'does': 1, 'make': 1, 'keep': 1, 'money': 1, 'without': 2, 'having': 1, 'modicum': 1, 'discipline': 1, 'as': 1, 'such': 1, 'hopeful': 1, 'will': 1, 'now': 1, 'list': 1, 'three': 1, 'things': 1, 'cannot': 1, 'live': 1, 'water': 1, 'emery': 1, 'boards': 1, 'dogs': 1, 'thank': 1, 'for': 1, 'opportunity': 1, 'introduce': 1, 'myself': 1, 'look': 1, 'forward': 1}\n",
      "\n",
      " Count for gregg note is {'a': 4, 'most': 3, 'good': 1, 'day': 2, 'to': 6, 'you': 2, 'all': 1, '': 18, 'i': 11, 'am': 2, 'gregg': 1, 't': 1, 'fishy': 2, 'of': 9, 'the': 8, 'enterprise': 1, 'fortune': 1, '37': 1, 'years': 1, 'young': 1, 'an': 1, 'adventurous': 1, 'spirit': 1, 'and': 8, \"i've\": 1, 'never': 1, 'lost': 1, 'my': 6, 'sense': 1, 'childlike': 1, 'wonder': 1, 'do': 1, 'love': 2, 'be': 3, 'in': 3, 'backyard': 1, 'gardening': 1, 'have': 2, 'extraordinary': 1, 'time': 2, 'when': 2, \"i'm\": 2, 'fishing': 3, 'for': 2, 'what': 1, 'might': 1, 'find': 2, 'yourself': 1, 'asking': 1, 'why': 1, 'happen': 1, 'always': 1, 'compliments': 1, 'course': 1, 'stunning': 1, 'pair': 1, 'radiant': 1, 'blue': 1, 'eyes': 1, 'that': 5, 'will': 2, 'pierce': 1, 'soul': 1, 'anyone': 1, 'who': 1, 'dare': 1, 'gaze': 1, 'upon': 1, 'countenance': 1, 'quite': 2, 'enjoy': 3, 'going': 1, 'on': 3, 'long': 1, 'jaunts': 1, 'through': 2, 'garden': 1, 'paths': 1, 'short': 1, 'walks': 1, 'greenhouses': 1, 'hope': 1, 'jay': 2, 'as': 2, 'absolutely': 1, 'interesting': 1, 'he': 2, 'appears': 1, 'television': 2, 'has': 1, 'some': 1, 'curious': 1, 'tastes': 1, 'style': 1, 'humor': 1, 'out': 1, 'about': 1, 'hearing': 1, 'tales': 1, 'instill': 1, 'heart': 1, 'hearts': 1, 'fascination': 1, 'beguiles': 1, 'every': 2, 'life': 2, 'fiber': 1, 'being': 2, 'scintillates': 1, 'vascillates': 1, 'with': 1, 'extreme': 1, 'pleasure': 1, 'during': 1, 'one': 1, 'these': 1, 'charming': 1, 'anecdotes': 1, 'significantly': 1, 'pleases': 1, 'beautiful': 1, 'personage': 1, 'cannot': 1, 'wait': 1, 'program': 1, 'remember': 1, 'it': 1, 'certainly': 1, 'seems': 1, 'like': 1, 'grand': 1, 'explore': 1}\n"
     ]
    }
   ],
   "source": [
    "#prepare text and frequency tables\n",
    "murder=prepare_text(murder_note)\n",
    "murder_count=build_frequency_table(murder)\n",
    "print('Count for murder note is {murder_count}'.format(murder_count=murder_count))\n",
    "\n",
    "lily=prepare_text(lily_trebuchet_intro)\n",
    "lily_count=build_frequency_table(lily)\n",
    "print('\\n Count for lily note is {lily_count}'.format(lily_count=lily_count))\n",
    "\n",
    "myrtle=prepare_text(myrtle_beech_intro)\n",
    "myrtle_count=build_frequency_table(myrtle)\n",
    "print('\\n Count for myrtle note is {myrtle_count}'.format(myrtle_count=myrtle_count))\n",
    "\n",
    "gregg=prepare_text(gregg_t_fishy_intro)\n",
    "gregg_count=build_frequency_table(gregg)\n",
    "print('\\n Count for gregg note is {gregg_count}'.format(gregg_count=gregg_count))"
   ]
  },
  {
   "cell_type": "markdown",
   "metadata": {},
   "source": [
    "## The Third Indicator: N-Grams\n",
    "\n",
    "An <a href='https://en.wikipedia.org/wiki/N-gram' target=\"_blank\">n-gram</a> is a text analysis technique used for pattern recognition and applicable throughout lingusitics. We're going to use n-grams to find who uses similar word-pairs to the murderer, and we think it's going to make our evidence strong enough to conclusively find the killer.\n",
    "\n",
    "Create a function called `ngram_creator` that takes a parameter `text_list`, a treated in-order list of the words in a text sample. `ngram_creator` should return a list of all adjacent pairs of words, styled as strings with a space in the center.\n",
    "\n",
    "For instance, calling `ngram_creator` with the input `['what', 'in', 'the', 'world', 'is', 'going', 'on']`\n",
    "Should produce the output `['what in', 'in the', 'the world', 'world is', 'is going', 'going on']`.\n",
    "\n",
    "These are two-word n-grams."
   ]
  },
  {
   "cell_type": "code",
   "execution_count": 9,
   "metadata": {},
   "outputs": [
    {
     "name": "stdout",
     "output_type": "stream",
     "text": [
      "['what in', 'in the', 'the world', 'world is', 'is going', 'going on']\n"
     ]
    }
   ],
   "source": [
    "def ngram_creator(text_list):\n",
    "    ngram=[]\n",
    "    ngram2=[]\n",
    "    for i in range(len(text_list)-1):\n",
    "        a=text_list[i]\n",
    "        b=text_list[i+1]\n",
    "        mylist=(a +' ' +b)\n",
    "        ngram.append(mylist)\n",
    "    return ngram\n",
    "test=['what', 'in', 'the', 'world', 'is', 'going', 'on']\n",
    "test_ngram = ngram_creator(test)\n",
    "print(test_ngram)"
   ]
  },
  {
   "cell_type": "markdown",
   "metadata": {},
   "source": [
    "Use `ngram_creator` along with the prepared text to create a list of all the two-word ngrams in each `TextSample`. Use `build_frequency_table` to tabulate the frequency of each ngram. In the constructor for `TextSample` save this frequency table as `self.ngram_frequency`."
   ]
  },
  {
   "cell_type": "code",
   "execution_count": 10,
   "metadata": {},
   "outputs": [
    {
     "name": "stdout",
     "output_type": "stream",
     "text": [
      "{'what in': 1, 'in the': 1, 'the world': 1, 'world is': 1, 'is going': 1, 'going on': 1}\n"
     ]
    }
   ],
   "source": [
    "test_nfreqs = build_frequency_table(test_ngram)\n",
    "print(test_nfreqs)"
   ]
  },
  {
   "cell_type": "code",
   "execution_count": 11,
   "metadata": {},
   "outputs": [
    {
     "name": "stdout",
     "output_type": "stream",
     "text": [
      "{'you may': 1, 'may call': 1, 'call me': 1, 'me heartless': 1, 'heartless ': 1, ' a': 4, 'a killer': 1, 'killer ': 1, 'a monster': 1, 'monster ': 1, 'a murderer': 1, 'murderer ': 1, ' but': 1, \"but i'm\": 1, \"i'm still\": 1, 'still nothing': 1, 'nothing compared': 1, 'compared to': 1, 'to the': 1, 'the villian': 1, 'villian that': 1, 'that jay': 1, 'jay was': 1, 'was ': 1, ' this': 1, 'this whole': 1, 'whole contest': 1, 'contest was': 1, 'was a': 3, 'a sham': 1, 'sham ': 1, ' an': 1, 'an elaborate': 1, 'elaborate plot': 1, 'plot to': 1, 'to shame': 1, 'shame the': 1, 'the contestants': 1, 'contestants and': 1, 'and feed': 1, \"feed jay's\": 1, \"jay's massive\": 1, 'massive ': 1, ' massive': 1, 'massive ego': 1, 'ego ': 1, ' sure': 1, 'sure you': 1, 'you think': 1, 'think you': 1, 'you know': 2, 'know him': 1, 'him ': 5, \" you've\": 1, \"you've seen\": 1, 'seen him': 1, 'him smiling': 1, 'smiling for': 1, 'for the': 1, 'the cameras': 1, 'cameras ': 1, ' laughing': 1, 'laughing ': 1, ' joking': 1, 'joking ': 1, ' telling': 1, 'telling stories': 1, 'stories ': 1, ' waving': 1, 'waving his': 1, 'his money': 1, 'money around': 1, 'around like': 1, 'like a': 1, 'a prop': 1, 'prop but': 1, 'but off': 1, 'off camera': 1, 'camera he': 1, 'he was': 3, 'a sinister': 1, 'sinister beast': 1, 'beast ': 1, 'a cruel': 1, 'cruel cruel': 1, 'cruel taskmaster': 1, 'taskmaster ': 1, ' he': 6, 'he treated': 1, 'treated all': 1, 'all of': 2, 'of us': 4, 'us like': 1, 'like slaves': 1, 'slaves ': 1, ' like': 2, 'like cattle': 1, 'cattle ': 1, 'like animals': 1, 'animals ': 1, ' do': 1, 'do you': 1, 'you remember': 1, 'remember lindsay': 1, 'lindsay ': 1, ' she': 1, 'she was': 1, 'was the': 1, 'the first': 1, 'first to': 1, 'to go': 1, 'go ': 1, 'he called': 1, 'called her': 1, 'her such': 1, 'such horrible': 1, 'horrible things': 1, 'things that': 1, 'that she': 1, 'she cried': 1, 'cried all': 1, 'all night': 1, 'night ': 1, ' keeping': 1, 'keeping up': 1, 'up all': 1, 'all up': 1, 'up ': 1, ' crying': 2, 'crying ': 3, ' and': 5, 'and more': 1, 'more crying': 1, 'he broke': 1, 'broke her': 1, 'her with': 1, 'with his': 2, 'his words': 1, 'words ': 1, ' i': 4, 'i miss': 1, 'miss my': 1, 'my former': 1, 'former cast': 1, 'cast members': 1, 'members ': 1, ' all': 2, 'of them': 1, 'them very': 1, 'very much': 1, 'much ': 1, 'and we': 1, 'we had': 1, 'had to': 1, 'to live': 1, 'live with': 1, 'with him': 1, ' live': 2, 'live in': 2, 'in his': 2, 'his home': 1, 'home ': 1, 'his power': 1, 'power ': 1, ' deal': 1, 'deal with': 1, 'his crazy': 1, 'crazy demands': 1, 'demands ': 1, 'and for': 1, 'for what': 1, 'what ': 1, ' did': 1, 'did you': 1, 'know that': 1, 'that the': 1, 'the prize': 1, \"prize isn't\": 1, \"isn't real\": 1, 'real ': 1, 'he never': 1, 'never intended': 1, 'intended to': 1, 'to marry': 1, 'marry one': 1, 'one of': 1, 'us ': 1, ' the': 2, 'the carrot': 1, 'carrot on': 1, 'on the': 1, 'the stick': 1, 'stick was': 1, 'was gone': 1, 'gone ': 1, 'all that': 1, 'that was': 1, 'was left': 1, 'left was': 1, 'was stick': 1, 'stick ': 1, 'he told': 1, 'told us': 1, 'us last': 1, 'last night': 1, 'night that': 1, 'that we': 1, 'we were': 1, 'were all': 1, 'all a': 1, 'a terrible': 1, 'terrible terrible': 1, 'terrible disappointment': 1, 'disappointment and': 1, 'and none': 1, 'none of': 1, 'us would': 1, 'would ever': 1, 'ever amount': 1, 'amount to': 1, 'to anything': 1, 'anything ': 1, 'and that': 1, 'that regardless': 1, 'regardless of': 1, 'of who': 1, 'who won': 1, 'won the': 1, 'the contest': 1, 'contest he': 1, 'he would': 1, 'would never': 1, 'never speak': 1, 'speak to': 1, 'to any': 1, 'any of': 1, 'us again': 1, 'again ': 1, \" it's\": 1, \"it's definitely\": 1, 'definitely the': 1, 'the things': 1, 'things like': 1, 'like this': 1, 'this you': 1, 'you can': 1, 'can feel': 1, 'feel in': 1, 'in your': 1, 'your gut': 1, 'gut how': 1, 'how wrong': 1, 'wrong he': 1, 'he is': 1, 'is ': 1, ' well': 1, 'well i': 1, 'i showed': 3, 'showed him': 3, 'he got': 2, 'got what': 1, 'what he': 2, 'he deserved': 1, 'deserved all': 1, 'all right': 1, 'right ': 1, 'him the': 1, 'the person': 1, 'person i': 1, 'i am': 1, 'am ': 1, \"i wasn't\": 2, \"wasn't going\": 2, 'going to': 2, 'to be': 1, 'be pushed': 1, 'pushed around': 1, 'around any': 1, 'any longer': 1, 'longer ': 1, 'and i': 1, 'to let': 1, 'let him': 1, 'him go': 1, 'go on': 1, 'on pretending': 1, 'pretending that': 1, 'that he': 1, 'was some': 1, 'some saint': 1, 'saint when': 1, 'when all': 1, 'all he': 1, 'was was': 1, 'a sick': 1, 'sick sick': 1, 'sick twisted': 1, 'twisted man': 1, 'man who': 1, 'who deserved': 1, 'deserved every': 1, 'every bit': 1, 'bit of': 1, 'of what': 1, 'got ': 1, 'the fans': 1, 'fans need': 1, 'need to': 1, 'to know': 1, 'know ': 1, ' jay': 1, 'jay stacksby': 1, 'stacksby is': 1, 'is a': 2, 'a vile': 1, 'vile amalgamation': 1, 'amalgamation of': 1, 'of all': 1, 'all things': 1, 'things evil': 1, 'evil and': 1, 'and bad': 1, 'bad and': 1, 'and the': 1, 'the world': 1, 'world is': 1, 'a better': 1, 'better place': 1, 'place without': 1, 'without him': 1}\n"
     ]
    }
   ],
   "source": [
    "murder_ngram=ngram_creator(murder)\n",
    "murder_nfreqs=build_frequency_table(murder_ngram)\n",
    "print(murder_nfreqs)\n",
    "\n",
    "lily_ngram=ngram_creator(lily)\n",
    "lily_nfreqs=build_frequency_table(lily_ngram)\n",
    "\n",
    "myrtle_ngram=ngram_creator(myrtle)\n",
    "myrtle_nfreqs=build_frequency_table(myrtle_ngram)\n",
    "\n",
    "gregg_ngram=ngram_creator(gregg)\n",
    "gregg_nfreqs=build_frequency_table(gregg_ngram)"
   ]
  },
  {
   "cell_type": "markdown",
   "metadata": {},
   "source": [
    "## Comparing Two Frequency Tables\n",
    "\n",
    "We want to know how similar two frequency tables are, let's write a function that computes the comparison between two frequency tables and scores them based on similarity.\n",
    "\n",
    "Write a function called `frequency_comparison` that takes two parameters, `table1` and `table2`. It should define two local variables, `appearances` and `mutual_appearances`. \n",
    "\n",
    "Iterate through `table1`'s keys and check if `table2` has the same key defined. If it is, compare the two values for the key -- the smaller value should get added to `mutual_appearances` and the larger should get added to `appearances`. If the key doesn't exist in `table2` the value for the key in `table1` should be added to `appearances`.\n",
    "\n",
    "Remember afterwards to iterate through all of `table2`'s keys that aren't in `table1` and add those to `appearances` as well.\n",
    "\n",
    "Return a frequency comparison score equal to the mutual appearances divided by the total appearances."
   ]
  },
  {
   "cell_type": "code",
   "execution_count": 12,
   "metadata": {},
   "outputs": [
    {
     "name": "stdout",
     "output_type": "stream",
     "text": [
      "6\n",
      "6\n",
      "frequency compare equals 1.0\n"
     ]
    },
    {
     "data": {
      "text/plain": [
       "1.0"
      ]
     },
     "execution_count": 12,
     "metadata": {},
     "output_type": "execute_result"
    }
   ],
   "source": [
    "def frequency_comparison(table1,table2):\n",
    "    #this is like a Venn diagram? table1 is experimental and table2 is control/standard/comparator, i.e. murder_note\n",
    "    #for larger values of matching keys, tabl1 values for keys that don't occur in table2, same for table2 values whose key isnt in table1\n",
    "    appearances=0\n",
    "    #for smaller values of matching keys\n",
    "    mutual_appearances=0\n",
    "    for i in table1.keys():\n",
    "        for y in table2.keys():\n",
    "            if i not in table2.keys():\n",
    "                appearances+=table1.get(i)\n",
    "                #print(appearances)\n",
    "                #print('not loop')\n",
    "            elif i == y in table2.keys() and table1.get(i) >= table2.get(y):\n",
    "                mutual_appearances+=table2.get(y)\n",
    "                appearances+=table1.get(i)\n",
    "                #print(appearances)\n",
    "                #print('elif#1')\n",
    "            elif i == y in table2.keys() and table1.get(i) < table2.get(y):\n",
    "                mutual_appearances+=table1.get(i)\n",
    "                appearances+=table2.get(y)\n",
    "                #print('elif#2')\n",
    "    for y in table1.keys():\n",
    "        for i in table1.keys():\n",
    "            if y not in table1.keys():\n",
    "                appearances+=table2.get(y)       \n",
    "        #print(appearances)\n",
    "        #print('yloop')\n",
    "    print(mutual_appearances)\n",
    "    print(appearances)\n",
    "    freq_compare=mutual_appearances/appearances \n",
    "    print('frequency compare equals {freq_compare}'.format(freq_compare=freq_compare))\n",
    "    return freq_compare\n",
    "\n",
    "corpus_freq= {'do': 1, 'you': 1, 'see': 2, 'what': 1, 'i': 1}\n",
    "frequency_comparison(corpus_freq,corpus_freq)"
   ]
  },
  {
   "cell_type": "markdown",
   "metadata": {},
   "source": [
    "## Comparing Average Sentence Length\n",
    "\n",
    "In order to calculate the change between the average sentence lengths of two `TextSamples` we're going to use the formula for the percent difference.\n",
    "\n",
    "Write a function called `percent_difference` that returns the percent difference as calculated from the following formula:\n",
    "\n",
    "$$\\frac{|\\ value1 - value2\\ |}{\\frac{value1 + value2}{2}}$$\n",
    "\n",
    "In the numerator is the absolute value (use `abs()`) of the two values subtracted from each other. In the denominator is the average of the two values (value1 + value2 divided by two)."
   ]
  },
  {
   "cell_type": "code",
   "execution_count": 13,
   "metadata": {},
   "outputs": [
    {
     "name": "stdout",
     "output_type": "stream",
     "text": [
      "0.21052631578947367\n",
      "0.5531914893617021\n",
      "0.3448275862068966\n"
     ]
    }
   ],
   "source": [
    "def percent_difference (value1,value2):\n",
    "    #percent differece of subject sample note vs. murder note\n",
    "    deltaPct= abs(value1-value2)/((value1+value2)/2)\n",
    "    return deltaPct\n",
    "\n",
    "sentence_length_difference_lily= percent_difference(10.5,8.5)\n",
    "print(sentence_length_difference_lily)\n",
    "sentence_length_difference_myrtle= percent_difference(15,8.5)\n",
    "print(sentence_length_difference_myrtle)\n",
    "sentence_length_difference_gregg= percent_difference(6,8.5)\n",
    "print(sentence_length_difference_gregg)"
   ]
  },
  {
   "cell_type": "markdown",
   "metadata": {},
   "source": [
    "## Scoring Similarity with All Three Indicators\n",
    "\n",
    "We want to figure out who did it, so let's use all three of the indicators we built to score text similarity. Define a function `find_text_similarity` that takes two `TextSample` arguments and returns a float between 0 and 1 where 0 means completely different and 1 means the same exact sample. You can evaluate the similarity by the following criteria:\n",
    "\n",
    "- Calculate the percent difference of their average sentence length using `percent_difference`. Save that into a variable called `sentence_length_difference`. Since we want to find how _similar_ the two passages are calculate the inverse of `sentence_length_difference` by using the formula `abs(1 - sentence_length_difference)`. Save that into a variable called `sentence_length_similarity`.\n",
    "- Calculate the difference between their word usage using `frequency_comparison` on both `TextSample`'s `word_count_frequency` attributes. Save that into a variable called `word_count_similarity`.\n",
    "- Calculate the difference between their two-word ngram using `frequency_table` on both `TextSample`'s `ngram_frequency` attributes. Save that into a variable called `ngram_similarity`.\n",
    "- Add all three similarities together and divide by 3."
   ]
  },
  {
   "cell_type": "code",
   "execution_count": 14,
   "metadata": {},
   "outputs": [
    {
     "name": "stdout",
     "output_type": "stream",
     "text": [
      "0.21052631578947367\n",
      "0.7894736842105263\n",
      "0.5531914893617021\n",
      "0.44680851063829785\n",
      "0.3448275862068966\n",
      "0.6551724137931034\n"
     ]
    }
   ],
   "source": [
    "def text_similarity(TextSample1,TextSample2):\n",
    "    #comparing suspect note (1) to murder note (2)\n",
    "    avlng_1=0.0\n",
    "    avlng_2=0.0\n",
    "    avlng_1 = get_average_sentence_length(TextSample1)\n",
    "    #print(avlng_1)\n",
    "    avlng_2 = get_average_sentence_length(TextSample2)\n",
    "    #print(avlng_2)\n",
    "    sentence_length_difference = percent_difference(avlng_1,avlng_2)\n",
    "    print(sentence_length_difference)\n",
    "    sentence_length_similarity = abs(1-sentence_length_difference)\n",
    "    print(sentence_length_similarity)\n",
    "    return sentence_length_similarity\n",
    "    \n",
    "sentance_length_similarity_Lily=text_similarity(lily_trebuchet_intro,murder_note)\n",
    "sentance_length_similarity_myrtle=text_similarity(myrtle_beech_intro,murder_note)\n",
    "sentance_length_similarity_gregg=text_similarity(gregg_t_fishy_intro,murder_note)"
   ]
  },
  {
   "cell_type": "code",
   "execution_count": 15,
   "metadata": {},
   "outputs": [
    {
     "name": "stdout",
     "output_type": "stream",
     "text": [
      "164\n",
      "25016\n",
      "frequency compare equals 0.006555804285257435\n",
      "108\n",
      "18183\n",
      "frequency compare equals 0.005939613925094869\n",
      "95\n",
      "21376\n",
      "frequency compare equals 0.004444236526946108\n"
     ]
    }
   ],
   "source": [
    "word_count_similarity_lily = frequency_comparison(lily_count,murder_count)\n",
    "word_count_similarity_myrtle = frequency_comparison(myrtle_count,murder_count)\n",
    "word_count_similarity_gregg = frequency_comparison(gregg_count,murder_count)"
   ]
  },
  {
   "cell_type": "code",
   "execution_count": 16,
   "metadata": {},
   "outputs": [
    {
     "name": "stdout",
     "output_type": "stream",
     "text": [
      "45\n",
      "96431\n",
      "frequency compare equals 0.0004666549138762431\n",
      "0.0004666549138762431\n",
      "17\n",
      "65705\n",
      "frequency compare equals 0.000258732212160414\n",
      "15\n",
      "68662\n",
      "frequency compare equals 0.00021846144883632868\n"
     ]
    }
   ],
   "source": [
    "lily_ngram_similarity = frequency_comparison(lily_nfreqs,murder_nfreqs)\n",
    "print(lily_ngram_similarity)\n",
    "\n",
    "myrtle_ngram_similarity = frequency_comparison(myrtle_nfreqs,murder_nfreqs)\n",
    "gregg_ngram_similarity = frequency_comparison(gregg_nfreqs,murder_nfreqs)"
   ]
  },
  {
   "cell_type": "markdown",
   "metadata": {},
   "source": [
    "## Rendering the Results\n",
    "\n",
    "We want to print out the results in a way that we can read! For each contestant on _A Brand New Jay_ print out the following:\n",
    "\n",
    "- Their name\n",
    "- Their similarity score to the murder letter"
   ]
  },
  {
   "cell_type": "code",
   "execution_count": 17,
   "metadata": {
    "scrolled": false
   },
   "outputs": [
    {
     "name": "stdout",
     "output_type": "stream",
     "text": [
      "The similarity score for Lily Trebuchet is 0.637236342204171.\n",
      "The similarity score for Myrtle Beech is 0.4331673717693995.\n",
      "The similarity score for Gregg T Fishy is 0.4393525051080143.\n"
     ]
    }
   ],
   "source": [
    "# please note that freq similarities are multipled by 100 and 1000 respectively to enable equal weighting to final score.\n",
    "# We should assume that weighting is equal as no statement to the contrary is provided.\n",
    "lily_sim_score=(sentance_length_similarity_Lily+(100*word_count_similarity_lily)+(1000*lily_ngram_similarity))/3\n",
    "print('The similarity score for {author} is {lily_sim_score}.'.format(author='Lily Trebuchet',lily_sim_score=lily_sim_score))\n",
    "myrtle_sim_score=(sentance_length_similarity_myrtle+(100*word_count_similarity_myrtle)+(1000*myrtle_ngram_similarity))/3\n",
    "print('The similarity score for Myrtle Beech is {myrtle_sim_score}.'.format(myrtle_sim_score=myrtle_sim_score))\n",
    "gregg_sim_score=(sentance_length_similarity_gregg+(100*word_count_similarity_gregg)+(1000*gregg_ngram_similarity))/3\n",
    "print('The similarity score for Gregg T Fishy is {gregg_sim_score}.'.format(gregg_sim_score=gregg_sim_score))"
   ]
  },
  {
   "cell_type": "markdown",
   "metadata": {},
   "source": [
    "# Who Dunnit?\n",
    "\n",
    "In the cell below, print the name of the person who killed Jay Stacksby."
   ]
  },
  {
   "cell_type": "code",
   "execution_count": null,
   "metadata": {},
   "outputs": [],
   "source": [
    "Lily Trebuchet"
   ]
  }
 ],
 "metadata": {
  "kernelspec": {
   "display_name": "Python 3",
   "language": "python",
   "name": "python3"
  },
  "language_info": {
   "codemirror_mode": {
    "name": "ipython",
    "version": 3
   },
   "file_extension": ".py",
   "mimetype": "text/x-python",
   "name": "python",
   "nbconvert_exporter": "python",
   "pygments_lexer": "ipython3",
   "version": "3.6.5"
  }
 },
 "nbformat": 4,
 "nbformat_minor": 2
}
